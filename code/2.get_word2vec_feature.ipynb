{
 "cells": [
  {
   "cell_type": "markdown",
   "metadata": {},
   "source": [
    "基于train+test数据集的20万个用户的搜索历史训练word2vec模型，生成word2vec向量并使用2-fold验证word2vec性能。\n",
    "\n",
    "    data_preprocess函数: 预处理类。\n",
    "    word2vec_alogrithm: 主功能类，完成word2vec的训练、生成和验证。"
   ]
  },
  {
   "cell_type": "code",
   "execution_count": 1,
   "metadata": {},
   "outputs": [],
   "source": [
    "import csv\n",
    "import time\n",
    "import numpy as np\n",
    "import pandas as pd\n",
    "from gensim.models import word2vec\n",
    "from sklearn.model_selection import KFold, StratifiedKFold\n",
    "from sklearn.linear_model import SGDClassifier, LogisticRegression\n",
    "from utils import get_data_from_csv\n",
    "\n",
    "import warnings\n",
    "warnings.filterwarnings('ignore')"
   ]
  },
  {
   "cell_type": "code",
   "execution_count": 100,
   "metadata": {},
   "outputs": [],
   "source": [
    "class Word2vec_algorithm():\n",
    "    def __init__(self, size=300):\n",
    "        random_rate = 2019\n",
    "        self.size = size\n",
    "        self.LR = LogisticRegression(C=1.0, max_iter=100, class_weight='balanced', random_state=random_rate, n_jobs=-1)\n",
    "        \n",
    "    def train(self, filename, save_path='../data/20w_size300_win100.model'):\n",
    "        \"\"\" 训练word2vec模型 \"\"\"\n",
    "        sentences = word2vec.LineSentence(filename) # 加载语料，要求语料一行一文本\n",
    "        \n",
    "        print('正在训练word2vec词向量，预料为: {}，size为: {}'.format(filename, self.size))\n",
    "        model = word2vec.Word2Vec(sentences, size=self.size, window=100, workers=48)\n",
    "        \n",
    "        print('训练word2vec词向量完毕，已保存在: {}'.format(save_path))\n",
    "        model.save(save_path)\n",
    "        \n",
    "    def load_model_and_transform_sentence_to_avgvec(self, X, model_path='../data/20w_size300_win100.model'):\n",
    "        \"\"\" \n",
    "        载入模型，生成word2vec向量 \n",
    "        :param X: 读入的文档，list\n",
    "        :return: np.array\n",
    "        \"\"\"\n",
    "        print('载入模型中...')\n",
    "        model = word2vec.Word2Vec.load(model_path)\n",
    "        print('载入模型成功!')\n",
    "        \n",
    "        res = np.zeros((len(X), self.size))\n",
    "        print('正在生成word2vec向量...')\n",
    "        for i, line in enumerate(X):\n",
    "            terms = line.split()\n",
    "            count = 0\n",
    "            for j, term in enumerate(terms):\n",
    "                try:\n",
    "                    count += 1\n",
    "                    res[i] += np.array(model[term])\n",
    "                except:\n",
    "                    1 == 1\n",
    "            if count !=0:\n",
    "                res[i] = res[i] / float(count) # 求均值\n",
    "        return res\n",
    "    \n",
    "    def fit_and_predict(self, X, Y, T):\n",
    "        \"\"\" 根据X和Y训练模型，对测试集数据T做出预测 \"\"\"\n",
    "        print('正在使用Logistic训练模型...')\n",
    "        self.LR.fit(X, Y)\n",
    "        result = self.LR.predict(T)\n",
    "        return result\n",
    "    \n",
    "    def validation(self, X, Y, kind=''):\n",
    "        \"\"\" 使用2-fold进行验证 \"\"\"\n",
    "        print('validating ', kind)\n",
    "        fold_n = 2\n",
    "        skf = StratifiedKFold(n_splits=fold_n)\n",
    "        score = np.zeros(fold_n)\n",
    "        for j, (train_idx, test_idx) in enumerate(skf.split(X, Y)):\n",
    "            print(str(j+1)+'-fold')\n",
    "            X_train = X[train_idx]\n",
    "            y_train = Y[train_idx]\n",
    "            X_test = X[test_idx]\n",
    "            y_test = Y[test_idx]\n",
    "            y_pred = self.fit_and_predict(X_train, y_train, X_test)\n",
    "            cur_score = sum(y_pred==y_test) * 1.0 / len(y_pred)\n",
    "            score[j] = cur_score\n",
    "        print(score, score.mean())\n",
    "        return score.mean()\n",
    "    "
   ]
  },
  {
   "cell_type": "code",
   "execution_count": 6,
   "metadata": {},
   "outputs": [
    {
     "data": {
      "text/plain": [
       "\"\\nt = 500 # 去10行数据\\nwith open(sub_train_seg_words_file_path, 'w') as wf:\\n    with open(train_seg_words_file_path, 'r') as f:\\n        for line in f:\\n            line.strip()\\n            t -= 1\\n            wf.writelines(line)\\n            if t == 0: \\n                break\\n        f.close()\\n    wf.close()\\n\""
      ]
     },
     "execution_count": 6,
     "metadata": {},
     "output_type": "execute_result"
    }
   ],
   "source": [
    "# 去分词后的数据集的前几行进行测试\n",
    "#sub_train_seg_words_file_path = '../data/sub_train_seg_words.csv'\n",
    "'''\n",
    "t = 500 # 去10行数据\n",
    "with open(sub_train_seg_words_file_path, 'w') as wf:\n",
    "    with open(train_seg_words_file_path, 'r') as f:\n",
    "        for line in f:\n",
    "            line.strip()\n",
    "            t -= 1\n",
    "            wf.writelines(line)\n",
    "            if t == 0: \n",
    "                break\n",
    "        f.close()\n",
    "    wf.close()\n",
    "'''"
   ]
  },
  {
   "cell_type": "markdown",
   "metadata": {},
   "source": [
    "步骤：\n",
    "- 1.先训练word2vec的model\n",
    "- 2.然后再生成word2vec向量 \n",
    "- 3.最后使用2-fold验证效果\n",
    "\n",
    "目的：\n",
    "- 生成word2vec向量，提供给下一个步骤：特征融合。"
   ]
  },
  {
   "cell_type": "code",
   "execution_count": 7,
   "metadata": {},
   "outputs": [],
   "source": [
    "train_seg_words_path = '../data/train_seg_words.csv'\n",
    "test_seg_words_path = '../data/test_seg_words.csv'\n",
    "full_seg_words_path = '../data/full_seg_words.csv'"
   ]
  },
  {
   "cell_type": "code",
   "execution_count": 101,
   "metadata": {},
   "outputs": [],
   "source": [
    "# 主功能类\n",
    "word2vec_algorithm_obj = Word2vec_algorithm()"
   ]
  },
  {
   "cell_type": "code",
   "execution_count": 11,
   "metadata": {},
   "outputs": [
    {
     "name": "stdout",
     "output_type": "stream",
     "text": [
      "正在训练word2vec词向量，预料为: ../data/full_seg_words.csv，size为: 300\n",
      "训练word2vec词向量完毕，已保存在: ../data/20w_size300_win100.model\n",
      "训练词向量共耗时: 2709.0512042045593\n"
     ]
    }
   ],
   "source": [
    "# 1.先训练word2vec的model\n",
    "st_time = time.time()\n",
    "word2vec_algorithm_obj.train(full_seg_words_path)\n",
    "print('训练词向量共耗时: {}'.format(time.time()-st_time))"
   ]
  },
  {
   "cell_type": "code",
   "execution_count": 14,
   "metadata": {},
   "outputs": [
    {
     "name": "stdout",
     "output_type": "stream",
     "text": [
      "error:  [] 32620\n",
      "error:  [] 87647\n",
      "共读取了: 99998行\n",
      "error:  [] 17478\n",
      "error:  [] 19941\n",
      "共读取了: 99998行\n"
     ]
    }
   ],
   "source": [
    "# 2.利用model分别得到训练集和测试集的word2vec向量，使用求和平均\n",
    "train_seg_words_data = get_data_from_csv(train_seg_words_path)\n",
    "test_seg_words_data = get_data_from_csv(test_seg_words_path)"
   ]
  },
  {
   "cell_type": "code",
   "execution_count": null,
   "metadata": {},
   "outputs": [],
   "source": [
    "train_avgvec = word2vec_algorithm_obj.load_model_and_transform_sentence_to_avgvec(train_seg_words_data)\n",
    "test_avgvec = word2vec_algorithm_obj.load_model_and_transform_sentence_to_avgvec(test_seg_words_data)"
   ]
  },
  {
   "cell_type": "code",
   "execution_count": 27,
   "metadata": {},
   "outputs": [],
   "source": [
    "np.save('../data/wv300_win100.train.npy', train_avgvec)\n",
    "np.save('../data/wv300_win100.test.npy', test_avgvec)"
   ]
  },
  {
   "cell_type": "code",
   "execution_count": 38,
   "metadata": {},
   "outputs": [],
   "source": [
    "# 3.测试wv向量，使用word2vec向量进行比赛，目的找到最好的word2vec参数\n",
    "# 载入label文件，获取标签数据\n",
    "gender_label_path = '../data/train_gender.csv'\n",
    "age_label_path = '../data/train_age.csv'\n",
    "education_label_path = '../data/train_education.csv'\n",
    "\n",
    "gender_label = np.loadtxt(open(gender_label_path, 'r')).astype(int)\n",
    "age_label = np.loadtxt(open(age_label_path, 'r')).astype(int)\n",
    "education_label = np.loadtxt(open(education_label_path, 'r')).astype(int)"
   ]
  },
  {
   "cell_type": "code",
   "execution_count": 55,
   "metadata": {},
   "outputs": [],
   "source": [
    "from utils import remove_zero\n",
    "\n",
    "# 缺失值处理\n",
    "wv_gender_x, gender_label = remove_zero(train_avgvec, gender_label)\n",
    "wv_age_x, age_label = remove_zero(train_avgvec, age_label)\n",
    "wv_education_x, education_label = remove_zero(train_avgvec, education_label)"
   ]
  },
  {
   "cell_type": "code",
   "execution_count": 102,
   "metadata": {},
   "outputs": [
    {
     "name": "stdout",
     "output_type": "stream",
     "text": [
      "validating  gender\n",
      "1-fold\n",
      "正在使用Logistic训练模型...\n",
      "2-fold\n",
      "正在使用Logistic训练模型...\n",
      "[0.82243526 0.82639712] 0.8244161886752852\n",
      "validating  age\n",
      "1-fold\n",
      "正在使用Logistic训练模型...\n",
      "2-fold\n",
      "正在使用Logistic训练模型...\n",
      "[0.55013423 0.55446854] 0.5523013844072397\n",
      "validating  education\n",
      "1-fold\n",
      "正在使用Logistic训练模型...\n",
      "2-fold\n",
      "正在使用Logistic训练模型...\n",
      "[0.54809197 0.5531868 ] 0.5506393859658881\n",
      "平均准确度是:  0.6424523196828044\n"
     ]
    }
   ],
   "source": [
    "# 使用2-fold进行验证，获取验证集的平均准确率，然后统计三个结果的加和平均准确率\n",
    "res1 = word2vec_algorithm_obj.validation(wv_gender_x, gender_label, kind='gender')\n",
    "res2 = word2vec_algorithm_obj.validation(wv_age_x, age_label, kind='age')\n",
    "res3 = word2vec_algorithm_obj.validation(wv_education_x, education_label, kind='education')\n",
    "\n",
    "print('平均准确度是: ',(res1+res2+res3)/3.0)"
   ]
  }
 ],
 "metadata": {
  "kernelspec": {
   "display_name": "Python 3",
   "language": "python",
   "name": "python3"
  },
  "language_info": {
   "codemirror_mode": {
    "name": "ipython",
    "version": 3
   },
   "file_extension": ".py",
   "mimetype": "text/x-python",
   "name": "python",
   "nbconvert_exporter": "python",
   "pygments_lexer": "ipython3",
   "version": "3.6.8"
  }
 },
 "nbformat": 4,
 "nbformat_minor": 2
}
